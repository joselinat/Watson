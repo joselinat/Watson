{
    "cells": [
        {
            "metadata": {},
            "cell_type": "code",
            "source": "\n// @hidden_cell\nimport com.ibm.ibmos2spark.CloudObjectStorage\nvar configurationName = \"os_e4a20857babd4051b50f959671354348_configs\"\n\nvar endpoint_e4a20857babd4051b50f959671354348 = \"https://s3.private.us.cloud-object-storage.appdomain.cloud\"\nif (System.getenv(\"RUNTIME_ENV_LOCATION_TYPE\") == \"external\") {\n    endpoint_e4a20857babd4051b50f959671354348 = \"https://s3.us.cloud-object-storage.appdomain.cloud\"\n}\n\ndef getCredentials(): scala.collection.mutable.HashMap[String, String] = {\n    return scala.collection.mutable.HashMap[String, String] (\n    \"endPoint\"-> endpoint_e4a20857babd4051b50f959671354348,\n    \"apiKey\"->\"0YrRJ3p1m6d53InjmvZVUXBn1_gPYlzFss9EIzSJBNtp\",\n    \"serviceId\"->\"iam-ServiceId-9faf258e-612f-4ec4-a19b-ca2c1986c14d\",\n    \"iamServiceEndpoint\" -> \"https://iam.cloud.ibm.com/oidc/token\")\n}\n\nvar cos = new CloudObjectStorage(sc, getCredentials(), configurationName, \"bluemix_cos\")\n\nimport org.apache.spark.sql.SparkSession\nval spark = SparkSession.\n    builder().\n    getOrCreate()\nval dfData1 = spark.\n    read.format(\"org.apache.spark.sql.execution.datasources.csv.CSVFileFormat\").\n    option(\"header\", \"true\").\n    option(\"inferSchema\", \"true\").\n    load(cos.url(\"proyectojupiter-donotdelete-pr-ytsgbrz0oebpvq\", \"Super fruta y verdura.csv\"))\ndfData1.show(5)\n",
            "execution_count": 4,
            "outputs": [
                {
                    "output_type": "stream",
                    "text": "+--------+--------+------+-------+------+                           (0 + 1) / 1]\n|    Desc|Cantidad|Unidad|Soriana|Coment|\n+--------+--------+------+-------+------+\n|   Elote|       6| Pieza|    8.0|  null|\n| Nopales|       1|    Kg|   20.0|  null|\n|   Ejote|    0.75|    Kg|   50.0|  null|\n|Chicharo|     0.5|    Kg|   null|  null|\n|Coliflor|       1| Pieza|   null|  null|\n+--------+--------+------+-------+------+\nonly showing top 5 rows\n\n",
                    "name": "stdout"
                },
                {
                    "output_type": "display_data",
                    "data": {
                        "text/plain": "configurationName = os_e4a20857babd4051b50f959671354348_configs\nendpoint_e4a20857babd4051b50f959671354348 = https://s3.private.us.cloud-object-storage.appdomain.cloud\ncos = com.ibm.ibmos2spark.CloudObjectStorage@9a70fe44\nspark = org.apache.spark.sql.SparkSession@d2867ad9\ndfData1 = [Desc: string, Cantidad: string ... 3 more fields]\n"
                    },
                    "metadata": {}
                },
                {
                    "output_type": "display_data",
                    "data": {
                        "text/plain": "getCredentials: ()scala.collection.mutable.HashMap[String,String]\n"
                    },
                    "metadata": {}
                },
                {
                    "output_type": "execute_result",
                    "execution_count": 4,
                    "data": {
                        "text/plain": "[Desc: string, Cantidad: string ... 3 more fields]"
                    },
                    "metadata": {}
                }
            ]
        },
        {
            "metadata": {},
            "cell_type": "code",
            "source": "",
            "execution_count": null,
            "outputs": []
        }
    ],
    "metadata": {
        "kernelspec": {
            "name": "scala",
            "display_name": "Scala 2.12 with Spark",
            "language": "scala"
        },
        "language_info": {
            "name": "scala",
            "version": "2.12.12",
            "file_extension": ".scala",
            "pygments_lexer": "scala",
            "mimetype": "text/x-scala",
            "codemirror_mode": "text/x-scala"
        }
    },
    "nbformat": 4,
    "nbformat_minor": 1
}